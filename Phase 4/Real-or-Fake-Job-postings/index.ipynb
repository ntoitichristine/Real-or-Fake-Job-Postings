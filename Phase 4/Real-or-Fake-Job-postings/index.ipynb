{
 "cells": [
  {
   "cell_type": "code",
   "execution_count": 1,
   "id": "5e2f2b90-6038-43a5-bf61-665f3b2ba5df",
   "metadata": {
    "scrolled": true
   },
   "outputs": [],
   "source": [
    "#<img src=\"fake or real job.png\" style=\"height: 300px; width: 500px;\">"
   ]
  },
  {
   "cell_type": "markdown",
   "id": "69f57f49-af09-4f86-acec-4a5c16f3ac06",
   "metadata": {},
   "source": [
    "## Real OR Fake job postings\r\n",
    "The project aims to develop a classification model to distinguish between real and fake job postings using a dataset containing 18K job descriptions, including approximately 800 fraudulent ones. The dataset includes both textual data (job descriptions) and meta-information about the jobs. The goal is to leverage Natural Language Processing (NLP), Machine Learning (ML), and predictive modeling techniques to identify fraudulent job postings and uncover key traits or features that differentiate them from legitimate ones. The project will involve data preprocessing, feature engineering, model training, evaluation, and optimization, with a focus on interpretability and actionable insightjob postings, ensuring a safer and more reliable job-seeking experiencens:"
   ]
  },
  {
   "cell_type": "markdown",
   "id": "74e9f8db-c568-4519-9406-e3f9ff922316",
   "metadata": {},
   "source": [
    "### Business Understanding:\n",
    "#### Overview:\n",
    "Fraudulent job postings pose a significant risk to job seekers, companies, and online job platforms. These fake postings can lead to financial losses, identity theft, and reputational damage. By building a robust classification model, businesses can automate the detection of fraudulent job postings, enhance platform credibility, and protect users from potential scams.\n",
    "\n",
    "#### Objectives:\n",
    "1. Predictive Modeling: Develop a classification model to predict whether a job posting is real or fake using textual and meta-features.\n",
    "2. Feature Identification: Identify key traits, phrases, or patterns in job descriptions that are indicative of fraudulent postings.\n",
    "4. Exploratory Data Analysis (EDA): Perform EDA to uncover insights, trends, and correlations within the dataset.\n",
    "5. Model Interpretability: Ensure the model's predictions are interpretable, enabling stakeholders to understand the reasoning behind flagged postings.\n",
    "6. Optimization: Optimize the model for performance, scalability, and accuracy using pipelines and hyperparameter tuning."
   ]
  },
  {
   "cell_type": "markdown",
   "id": "03d85834-97b2-4702-8b2a-558318652f37",
   "metadata": {},
   "source": [
    "#### Key Components:\n",
    "1. Predictive Modeling:\n",
    "- Use supervised learning techniques (e.g., Logistic Regression, Random Forest, XGBoost, or Deep Learning models) to classify job postings as real or fake.\n",
    "- Incorporate both textual features (e.g., TF-IDF, word embeddings) and meta-features (e.g., job title, location, salary) into the model.\n",
    "\n",
    "2. NLP Pipelines:\n",
    "\n",
    "- Preprocess textual data using tokenization, stemming/lemmatization, and stopword removal.\n",
    "- Extract features using techniques like TF-IDF, Bag of Words\n",
    "- Perform entity recognition to identify key terms (e.g., company names, locations) that may indicate fraud.\n",
    "\n",
    "3. Machine Learning Pipelines:\n",
    "\n",
    "- Build end-to-end ML pipelines to automate data preprocessing, feature extraction, and model training.\n",
    "- Use tools such as Scikit-learn and TensorFlow for model development.\n",
    "\n",
    "4. Model Evaluation and Optimization:\n",
    "\n",
    "- Evaluate model performance using metrics such as accuracy, precision, recall, F1-score, and AUC-ROC.\n",
    "- Optimize hyperparameters using techniques like Grid Search and Bayesian Optimization.\n",
    "- Address class imbalance (800 fake vs. 17K real postings) using techniques like class weighting.\n",
    "\n",
    "5. Success Metrics:\n",
    "\n",
    "- Primary metric: F1-score (to balance precision and recall, given the imbalanced dataset).\n",
    "- Secondary metrics: Accuracy, Precision, Recall, and AUC-ROC.\n",
    "- Business metric: Reduction in fraudulent job postings on the platform.\n",
    "\n",
    "\n",
    "6. Model Interpretability:\n",
    "\n",
    "- Use techniques like SHAP (SHapley Additive exPlanations) or LIME (Local Interpretable Model-agnostic Explanations) to explain model predictions.\n",
    "- Identify the most influential features (e.g., specific words, phrases, or meta-features) contributing to the classification of a job posting as fake.\n"
   ]
  },
  {
   "cell_type": "markdown",
   "id": "df9121bc-c930-4ee2-95a6-381c6069ddca",
   "metadata": {},
   "source": [
    "### Inspiration and Business Value:\n",
    "\n",
    "The project addresses critical business needs by:\n",
    "1. Protecting job seekers from fraudulent postings.\n",
    "2. Enhancing the credibility and trustworthiness of job platforms.\n",
    "3. Providing actionable insights into the characteristics of fake job postings.\n",
    "4. Enabling proactive measures to detect and remove fraudulent content.\n",
    "5. By combining NLP, ML, and interpretable AI, this project delivers a scalable and effective solution for identifying fake job postings, ensuring a safer and more reliable job-seeking experience."
   ]
  },
  {
   "cell_type": "markdown",
   "id": "5ffc2bce-df2e-4938-8c88-e3590e906774",
   "metadata": {},
   "source": [
    "### 1. Data Preparation\n",
    "##### Import the Libraries"
   ]
  },
  {
   "cell_type": "code",
   "execution_count": 2,
   "id": "32dab9d1-391c-45fd-879d-04812fda8b37",
   "metadata": {},
   "outputs": [],
   "source": [
    "# Import the libraries\n",
    "from zipfile import ZipFile\n",
    "import pandas as pd\n",
    "import seaborn as sns\n",
    "import matplotlib.pyplot as plt\n",
    "from sklearn.impute import SimpleImputer\n",
    "from sklearn.model_selection import train_test_split, GridSearchCV \n",
    "from sklearn.preprocessing import OneHotEncoder\n",
    "from sklearn.pipeline import Pipeline\n",
    "from sklearn.metrics import accuracy_score, confusion_matrix, classification_report, roc_auc_score\n",
    "from sklearn.preprocessing import StandardScaler\n",
    "from sklearn.neighbors import KNeighborsClassifier\n",
    "from sklearn.feature_extraction.text import TfidfVectorizer\n",
    "from sklearn.ensemble import RandomForestClassifier, GradientBoostingClassifier \n",
    "from xgboost import XGBClassifier\n",
    "import re\n",
    "import nltk\n",
    "# nltk.download('stopwords')\n",
    "from nltk.tokenize import RegexpTokenizer\n",
    "from nltk.corpus import stopwords\n",
    "from nltk.stem import PorterStemmer\n",
    "import spacy\n",
    "from wordcloud import WordCloud"
   ]
  },
  {
   "cell_type": "markdown",
   "id": "2d9a1c44-a14b-425b-bd04-30a40db76d4b",
   "metadata": {},
   "source": [
    "#### 1.1 Load the Dataset\n",
    "Extract contents from a zipped file containing job postings data, and read the CSV file into a pandas DataFrame"
   ]
  },
  {
   "cell_type": "code",
   "execution_count": 3,
   "id": "d5cca742-7aaf-49ae-b696-534509127868",
   "metadata": {},
   "outputs": [
    {
     "data": {
      "text/html": [
       "<div>\n",
       "<style scoped>\n",
       "    .dataframe tbody tr th:only-of-type {\n",
       "        vertical-align: middle;\n",
       "    }\n",
       "\n",
       "    .dataframe tbody tr th {\n",
       "        vertical-align: top;\n",
       "    }\n",
       "\n",
       "    .dataframe thead th {\n",
       "        text-align: right;\n",
       "    }\n",
       "</style>\n",
       "<table border=\"1\" class=\"dataframe\">\n",
       "  <thead>\n",
       "    <tr style=\"text-align: right;\">\n",
       "      <th></th>\n",
       "      <th>job_id</th>\n",
       "      <th>title</th>\n",
       "      <th>location</th>\n",
       "      <th>department</th>\n",
       "      <th>salary_range</th>\n",
       "      <th>company_profile</th>\n",
       "      <th>description</th>\n",
       "      <th>requirements</th>\n",
       "      <th>benefits</th>\n",
       "      <th>telecommuting</th>\n",
       "      <th>has_company_logo</th>\n",
       "      <th>has_questions</th>\n",
       "      <th>employment_type</th>\n",
       "      <th>required_experience</th>\n",
       "      <th>required_education</th>\n",
       "      <th>industry</th>\n",
       "      <th>function</th>\n",
       "      <th>fraudulent</th>\n",
       "    </tr>\n",
       "  </thead>\n",
       "  <tbody>\n",
       "    <tr>\n",
       "      <th>0</th>\n",
       "      <td>1</td>\n",
       "      <td>Marketing Intern</td>\n",
       "      <td>US, NY, New York</td>\n",
       "      <td>Marketing</td>\n",
       "      <td>NaN</td>\n",
       "      <td>We're Food52, and we've created a groundbreaki...</td>\n",
       "      <td>Food52, a fast-growing, James Beard Award-winn...</td>\n",
       "      <td>Experience with content management systems a m...</td>\n",
       "      <td>NaN</td>\n",
       "      <td>0</td>\n",
       "      <td>1</td>\n",
       "      <td>0</td>\n",
       "      <td>Other</td>\n",
       "      <td>Internship</td>\n",
       "      <td>NaN</td>\n",
       "      <td>NaN</td>\n",
       "      <td>Marketing</td>\n",
       "      <td>0</td>\n",
       "    </tr>\n",
       "    <tr>\n",
       "      <th>1</th>\n",
       "      <td>2</td>\n",
       "      <td>Customer Service - Cloud Video Production</td>\n",
       "      <td>NZ, , Auckland</td>\n",
       "      <td>Success</td>\n",
       "      <td>NaN</td>\n",
       "      <td>90 Seconds, the worlds Cloud Video Production ...</td>\n",
       "      <td>Organised - Focused - Vibrant - Awesome!Do you...</td>\n",
       "      <td>What we expect from you:Your key responsibilit...</td>\n",
       "      <td>What you will get from usThrough being part of...</td>\n",
       "      <td>0</td>\n",
       "      <td>1</td>\n",
       "      <td>0</td>\n",
       "      <td>Full-time</td>\n",
       "      <td>Not Applicable</td>\n",
       "      <td>NaN</td>\n",
       "      <td>Marketing and Advertising</td>\n",
       "      <td>Customer Service</td>\n",
       "      <td>0</td>\n",
       "    </tr>\n",
       "  </tbody>\n",
       "</table>\n",
       "</div>"
      ],
      "text/plain": [
       "   job_id                                      title          location  \\\n",
       "0       1                           Marketing Intern  US, NY, New York   \n",
       "1       2  Customer Service - Cloud Video Production    NZ, , Auckland   \n",
       "\n",
       "  department salary_range                                    company_profile  \\\n",
       "0  Marketing          NaN  We're Food52, and we've created a groundbreaki...   \n",
       "1    Success          NaN  90 Seconds, the worlds Cloud Video Production ...   \n",
       "\n",
       "                                         description  \\\n",
       "0  Food52, a fast-growing, James Beard Award-winn...   \n",
       "1  Organised - Focused - Vibrant - Awesome!Do you...   \n",
       "\n",
       "                                        requirements  \\\n",
       "0  Experience with content management systems a m...   \n",
       "1  What we expect from you:Your key responsibilit...   \n",
       "\n",
       "                                            benefits  telecommuting  \\\n",
       "0                                                NaN              0   \n",
       "1  What you will get from usThrough being part of...              0   \n",
       "\n",
       "   has_company_logo  has_questions employment_type required_experience  \\\n",
       "0                 1              0           Other          Internship   \n",
       "1                 1              0       Full-time      Not Applicable   \n",
       "\n",
       "  required_education                   industry          function  fraudulent  \n",
       "0                NaN                        NaN         Marketing           0  \n",
       "1                NaN  Marketing and Advertising  Customer Service           0  "
      ]
     },
     "execution_count": 3,
     "metadata": {},
     "output_type": "execute_result"
    }
   ],
   "source": [
    "# Extract the zip file\n",
    "with ZipFile(\"Real or Fake Job Postings.zip\", 'r') as f:\n",
    "    f.extractall()\n",
    "\n",
    "# Read the CSV file as a single column\n",
    "fakejobs_postings_df = pd.read_csv(\"fake_job_postings.csv\")\n",
    "fakejobs_postings_df.head(2)"
   ]
  },
  {
   "cell_type": "markdown",
   "id": "16b5621c-d76a-4938-8121-1cb1324620d9",
   "metadata": {},
   "source": [
    "#### 1.2 Initial Dataset Exploration\n",
    "Display the number of rows and columns in the dataset and list all the column names in the dataset."
   ]
  },
  {
   "cell_type": "code",
   "execution_count": 4,
   "id": "70c62b2f-26a6-4809-bfdf-73b267c61281",
   "metadata": {
    "scrolled": true
   },
   "outputs": [
    {
     "name": "stdout",
     "output_type": "stream",
     "text": [
      "The shape of the dataset is (17880, 18)\n",
      "Index(['job_id', 'title', 'location', 'department', 'salary_range',\n",
      "       'company_profile', 'description', 'requirements', 'benefits',\n",
      "       'telecommuting', 'has_company_logo', 'has_questions', 'employment_type',\n",
      "       'required_experience', 'required_education', 'industry', 'function',\n",
      "       'fraudulent'],\n",
      "      dtype='object')\n",
      "The Target Variable if Fraudulent\n"
     ]
    }
   ],
   "source": [
    "# check the shape of the dataset\n",
    "print(f'The shape of the dataset is {fakejobs_postings_df.shape}')\n",
    "\n",
    "print(fakejobs_postings_df.columns)\n",
    "\n",
    "print(f'The Target Variable if Fraudulent')"
   ]
  },
  {
   "cell_type": "markdown",
   "id": "ddeb659a-217a-422e-b149-6554aad33bdc",
   "metadata": {},
   "source": [
    "#### 1.3 Handle missing values\n",
    "calculate the percentage of missing values for each column to understand the quality of the dataset."
   ]
  },
  {
   "cell_type": "code",
   "execution_count": 5,
   "id": "c857dfff-7e33-45bc-ab18-b84f345f697f",
   "metadata": {},
   "outputs": [
    {
     "data": {
      "text/plain": [
       "location                1.94\n",
       "department             64.58\n",
       "salary_range           83.96\n",
       "company_profile        18.50\n",
       "description             0.01\n",
       "requirements           15.08\n",
       "benefits               40.34\n",
       "employment_type        19.41\n",
       "required_experience    39.43\n",
       "required_education     45.33\n",
       "industry               27.42\n",
       "function               36.10\n",
       "dtype: float64"
      ]
     },
     "execution_count": 5,
     "metadata": {},
     "output_type": "execute_result"
    }
   ],
   "source": [
    "# Determine the number of rows with missing data\n",
    "(fakejobs_postings_df.isnull().sum()[fakejobs_postings_df.isnull().sum() > 0] / len(fakejobs_postings_df) * 100).round(2)"
   ]
  },
  {
   "cell_type": "markdown",
   "id": "2ef35f37-ddea-4822-8e33-f4bc1cec9df4",
   "metadata": {},
   "source": [
    "##### Insights\n",
    "Columns with more than 60% missing data (such as column 4 with 83.96% and column 3 with 64.58%) are a concern. \n",
    "All other columns will be imputed with appropriate strategies (median for numerical columns, and mode imputation for categorical columns)"
   ]
  },
  {
   "cell_type": "code",
   "execution_count": 6,
   "id": "f4e16c1c-ae78-4c27-a4ca-a461736a5f0c",
   "metadata": {},
   "outputs": [
    {
     "data": {
      "image/png": "[encoded data removed]",
      "text/plain": [
       "<Figure size 800x400 with 1 Axes>"
      ]
     },
     "metadata": {},
     "output_type": "display_data"
    }
   ],
   "source": [
    "# Calculate the percentage of missing values for each column\n",
    "missing_data_percentage = fakejobs_postings_df.isnull().mean() * 100\n",
    "\n",
    "# Create a barplot to visualize the percentage of missing values\n",
    "plt.figure(figsize=(8,4))\n",
    "sns.barplot(x=missing_data_percentage.index, y=missing_data_percentage.values, color='purple')\n",
    "plt.xticks(rotation=90)\n",
    "plt.xlabel('Columns')\n",
    "plt.ylabel('Percentage of Missing Values')\n",
    "plt.title('Percentage of Missing Values per Column')\n",
    "\n",
    "# Set y-axis limit from 0 to 100\n",
    "plt.ylim(0, 100)\n",
    "\n",
    "plt.show()"
   ]
  },
  {
   "cell_type": "markdown",
   "id": "454814be-5ca0-419b-bce4-9109f9f8f5cb",
   "metadata": {},
   "source": [
    "##### Insights\n",
    "The bar graph above visualizes the percentage of missing values"
   ]
  },
  {
   "cell_type": "markdown",
   "id": "08204f96-24aa-4585-b6c8-5bc7fc83d65d",
   "metadata": {},
   "source": [
    "#### 1.4. Data cleaning and Preprocessing\n",
    "Data cleaning and preprocessing steps below to ensure it is ready for analysis. Unnecessary columns like 'job_id', 'telecommuting', 'has_company_logo', 'has_questions', 'salary_range', and 'employment_type' are dropped. Missing values in categorical columns are filled with an empty string (' '), while missing values in numerical columns are replaced with the mode of that column. Additionally, rows with missing values in the target variable 'fraudulent' are removed."
   ]
  },
  {
   "cell_type": "code",
   "execution_count": 7,
   "id": "08772e1c-8d08-44a5-914e-8bec8decce66",
   "metadata": {},
   "outputs": [
    {
     "data": {
      "text/html": [
       "<div>\n",
       "<style scoped>\n",
       "    .dataframe tbody tr th:only-of-type {\n",
       "        vertical-align: middle;\n",
       "    }\n",
       "\n",
       "    .dataframe tbody tr th {\n",
       "        vertical-align: top;\n",
       "    }\n",
       "\n",
       "    .dataframe thead th {\n",
       "        text-align: right;\n",
       "    }\n",
       "</style>\n",
       "<table border=\"1\" class=\"dataframe\">\n",
       "  <thead>\n",
       "    <tr style=\"text-align: right;\">\n",
       "      <th></th>\n",
       "      <th>title</th>\n",
       "      <th>location</th>\n",
       "      <th>department</th>\n",
       "      <th>company_profile</th>\n",
       "      <th>description</th>\n",
       "      <th>requirements</th>\n",
       "      <th>benefits</th>\n",
       "      <th>required_experience</th>\n",
       "      <th>required_education</th>\n",
       "      <th>industry</th>\n",
       "      <th>function</th>\n",
       "      <th>fraudulent</th>\n",
       "    </tr>\n",
       "  </thead>\n",
       "  <tbody>\n",
       "    <tr>\n",
       "      <th>0</th>\n",
       "      <td>Marketing Intern</td>\n",
       "      <td>US, NY, New York</td>\n",
       "      <td>Marketing</td>\n",
       "      <td>We're Food52, and we've created a groundbreaki...</td>\n",
       "      <td>Food52, a fast-growing, James Beard Award-winn...</td>\n",
       "      <td>Experience with content management systems a m...</td>\n",
       "      <td></td>\n",
       "      <td>Internship</td>\n",
       "      <td></td>\n",
       "      <td></td>\n",
       "      <td>Marketing</td>\n",
       "      <td>0</td>\n",
       "    </tr>\n",
       "    <tr>\n",
       "      <th>1</th>\n",
       "      <td>Customer Service - Cloud Video Production</td>\n",
       "      <td>NZ, , Auckland</td>\n",
       "      <td>Success</td>\n",
       "      <td>90 Seconds, the worlds Cloud Video Production ...</td>\n",
       "      <td>Organised - Focused - Vibrant - Awesome!Do you...</td>\n",
       "      <td>What we expect from you:Your key responsibilit...</td>\n",
       "      <td>What you will get from usThrough being part of...</td>\n",
       "      <td>Not Applicable</td>\n",
       "      <td></td>\n",
       "      <td>Marketing and Advertising</td>\n",
       "      <td>Customer Service</td>\n",
       "      <td>0</td>\n",
       "    </tr>\n",
       "  </tbody>\n",
       "</table>\n",
       "</div>"
      ],
      "text/plain": [
       "                                       title          location department  \\\n",
       "0                           Marketing Intern  US, NY, New York  Marketing   \n",
       "1  Customer Service - Cloud Video Production    NZ, , Auckland    Success   \n",
       "\n",
       "                                     company_profile  \\\n",
       "0  We're Food52, and we've created a groundbreaki...   \n",
       "1  90 Seconds, the worlds Cloud Video Production ...   \n",
       "\n",
       "                                         description  \\\n",
       "0  Food52, a fast-growing, James Beard Award-winn...   \n",
       "1  Organised - Focused - Vibrant - Awesome!Do you...   \n",
       "\n",
       "                                        requirements  \\\n",
       "0  Experience with content management systems a m...   \n",
       "1  What we expect from you:Your key responsibilit...   \n",
       "\n",
       "                                            benefits required_experience  \\\n",
       "0                                                             Internship   \n",
       "1  What you will get from usThrough being part of...      Not Applicable   \n",
       "\n",
       "  required_education                   industry          function  fraudulent  \n",
       "0                                                       Marketing           0  \n",
       "1                     Marketing and Advertising  Customer Service           0  "
      ]
     },
     "execution_count": 7,
     "metadata": {},
     "output_type": "execute_result"
    }
   ],
   "source": [
    "# Drop columns that are not necessary in the analysis\n",
    "columns = ['job_id', 'telecommuting', 'has_company_logo', 'has_questions', 'salary_range', 'employment_type']\n",
    "fakejobs_postings_df.drop(columns=columns, inplace=True)\n",
    "\n",
    "# Fill missing values in categorical columns with 'N/A' and numerical columns with mode\n",
    "for column in fakejobs_postings_df.columns:\n",
    "    if fakejobs_postings_df[column].dtype == 'object':  # Categorical column\n",
    "        fakejobs_postings_df[column] = fakejobs_postings_df[column].fillna(' ')  # Fill ' '\n",
    "    else:  # Numerical column\n",
    "        fakejobs_postings_df[column] = fakejobs_postings_df[column].fillna(fakejobs_postings_df[column].mode()[0])  # Fill with mode\n",
    "\n",
    "# Further handling missing data and preprocessing\n",
    "# Ensure there are no rows with missing target variable\n",
    "fakejobs_postings_df.dropna(subset=['fraudulent'], inplace=True)\n",
    "\n",
    "# Check for any remaining missing values and handle\n",
    "fakejobs_postings_df.isnull().sum()\n",
    "\n",
    "\n",
    "fakejobs_postings_df.head(2)"
   ]
  },
  {
   "cell_type": "markdown",
   "id": "9cb4c3fd-1b65-41b6-bc12-a4a43ced00b8",
   "metadata": {},
   "source": [
    "##### 1.5. Categorical and Numerical columns\n",
    "Check the data types of the columns in the dataset."
   ]
  },
  {
   "cell_type": "code",
   "execution_count": 8,
   "id": "823a8878-e59d-4c53-becf-0c7597e26183",
   "metadata": {},
   "outputs": [
    {
     "name": "stdout",
     "output_type": "stream",
     "text": [
      "Categorical columns: Index(['title', 'location', 'department', 'company_profile', 'description',\n",
      "       'requirements', 'benefits', 'required_experience', 'required_education',\n",
      "       'industry', 'function'],\n",
      "      dtype='object')\n",
      "numerical columns: Index(['fraudulent'], dtype='object')\n"
     ]
    }
   ],
   "source": [
    "# Identify categorical columns (dtype = object or category)\n",
    "categorical_columns = fakejobs_postings_df.select_dtypes(include=['object', 'category']).columns\n",
    "\n",
    "print(\"Categorical columns:\", categorical_columns)\n",
    "\n",
    "# Identify categorical columns (dtype = object or category)\n",
    "numerical_columns = fakejobs_postings_df.select_dtypes(include=['float64', 'int64']).columns\n",
    "\n",
    "print(\"numerical columns:\", numerical_columns)"
   ]
  },
  {
   "cell_type": "markdown",
   "id": "afc6c50f-4104-442d-93bb-4ea09207ecd4",
   "metadata": {},
   "source": [
    "### 2. Exploratory Data Analysis (EDA)"
   ]
  },
  {
   "cell_type": "markdown",
   "id": "640ede1d-dcc8-41c5-9efe-14982be79058",
   "metadata": {},
   "source": [
    "##### 2.1. Visualizing the Distribution of the Target Variable ('fraudulent')\n",
    "Visualize the distribution of the target variable, fraudulent, which likely indicates whether a job posting is fraudulent or not."
   ]
  },
  {
   "cell_type": "code",
   "execution_count": 9,
   "id": "ada24fb0-70c0-40cc-bad3-0247196d6a2d",
   "metadata": {
    "scrolled": true
   },
   "outputs": [
    {
     "data": {
      "image/png": "[encoded data removed]",
      "text/plain": [
       "<Figure size 1000x300 with 1 Axes>"
      ]
     },
     "metadata": {},
     "output_type": "display_data"
    }
   ],
   "source": [
    "# Plot the distribution of the target variable 'fraudulent'\n",
    "plt.figure(figsize=(10,3))  \n",
    "sns.countplot(x='fraudulent', data=fakejobs_postings_df)\n",
    "\n",
    "# Show the count of titles grouped by 'fraudulent', sorted by title count\n",
    "fraudulent_counts = fakejobs_postings_df.groupby('fraudulent').count()['title'].reset_index().sort_values(by='title', ascending=False)\n",
    "\n",
    "# Show the plot\n",
    "plt.show()\n"
   ]
  },
  {
   "cell_type": "markdown",
   "id": "2011e2a5-8d8f-441f-82ed-00321458570d",
   "metadata": {},
   "source": [
    "##### 2.2. Extracting Country Information and Visualizing Job Postings by Country\n",
    "Extract country information from the location column and visuale the distribution of job postings by country.\n",
    "Use a bar plot to visualize the top 10 countries with the most job postings. "
   ]
  },
  {
   "cell_type": "code",
   "execution_count": 10,
   "id": "0799e6ba-a5bf-493a-a581-550eecee5841",
   "metadata": {
    "scrolled": true
   },
   "outputs": [
    {
     "data": {
      "image/png": "[encoded data removed]",
      "text/plain": [
       "<Figure size 1000x400 with 1 Axes>"
      ]
     },
     "metadata": {},
     "output_type": "display_data"
    }
   ],
   "source": [
    "# Extract country from the location column\n",
    "fakejobs_postings_df['country'] = fakejobs_postings_df['location'].str.split(',').str[0].str.strip()\n",
    "\n",
    "# Count the number of job postings per country\n",
    "country_counts = fakejobs_postings_df['country'].value_counts()\n",
    "\n",
    "# Plot the results\n",
    "plt.figure(figsize=(10, 4))\n",
    "sns.barplot(x=country_counts.head(10).index, y=country_counts.head(10).values, color='green')  # Changed 'colour' to 'color'\n",
    "plt.title('Top 10 Countries with the Most Job Postings')\n",
    "plt.xlabel('Country')\n",
    "plt.ylabel('Number of Job Postings')\n",
    "plt.xticks(rotation=45)\n",
    "plt.show()\n"
   ]
  },
  {
   "cell_type": "markdown",
   "id": "1745c033-4dbd-4288-b52f-66e73a3f6bd3",
   "metadata": {},
   "source": [
    "##### Insights\n",
    "The USA and Great Britain have the most job postings"
   ]
  },
  {
   "cell_type": "markdown",
   "id": "b3836a3b-efc0-4726-8211-77b4ec644232",
   "metadata": {},
   "source": [
    "##### 2.3. Visualizing Experience Requirements in Job Postings\n",
    "Count and visualize the most common experience requirements in job postings."
   ]
  },
  {
   "cell_type": "code",
   "execution_count": 11,
   "id": "4f1676ef-074d-45a6-ba93-c527e5ce2883",
   "metadata": {},
   "outputs": [
    {
     "data": {
      "image/png": "[encoded data removed]",
      "text/plain": [
       "<Figure size 1000x400 with 1 Axes>"
      ]
     },
     "metadata": {},
     "output_type": "display_data"
    }
   ],
   "source": [
    "# Count the occurrences of each experience type\n",
    "experience_counts = fakejobs_postings_df['required_experience'].value_counts()\n",
    "\n",
    "# Plot the results\n",
    "plt.figure(figsize=(10, 4))\n",
    "sns.barplot(x=experience_counts.index, y=experience_counts.values, color='orange')\n",
    "plt.title('Most Common Experience Requirements')\n",
    "plt.xlabel('Experience Type')\n",
    "plt.ylabel('Number of Job Postings')\n",
    "plt.xticks(rotation=45)\n",
    "plt.show()"
   ]
  },
  {
   "cell_type": "markdown",
   "id": "2256c970-ee69-47b0-8eda-8841cdb437f4",
   "metadata": {},
   "source": [
    "##### Insights\n",
    "In the advertised job positions, the most experience type required is: mid-senior level, entry leve, associate, director, internship and executive in that order"
   ]
  },
  {
   "cell_type": "markdown",
   "id": "cf4435f5-d880-49de-92b4-4732d1b941e7",
   "metadata": {},
   "source": [
    "##### 2.4. Analyzing the Most Common Job Titles\n",
    "Identify and display the most common job titles in the dataset with a  Word Cloud."
   ]
  },
  {
   "cell_type": "code",
   "execution_count": 12,
   "id": "9c0b1136-9e9f-4db8-baad-686de680bcf0",
   "metadata": {
    "scrolled": true
   },
   "outputs": [
    {
     "data": {
      "image/png": "[encoded data removed]",
      "text/plain": [
       "<Figure size 800x400 with 1 Axes>"
      ]
     },
     "metadata": {},
     "output_type": "display_data"
    }
   ],
   "source": [
    "# Count the occurrences of each job title and get the top 10\n",
    "title_counts = fakejobs_postings_df['title'].value_counts().head(10)\n",
    "\n",
    "# Display as a DataFrame to show it in a table format\n",
    "title_counts_df = pd.DataFrame(title_counts).reset_index()\n",
    "title_counts_df.columns = ['Job Title', 'Occurrences']\n",
    "\n",
    "# Generate a Word Cloud for the top 10 job titles\n",
    "wordcloud = WordCloud(width=600, height=200, background_color='white').generate_from_frequencies(title_counts.to_dict())\n",
    "\n",
    "# Display the Word Cloud\n",
    "plt.figure(figsize=(8, 4))\n",
    "plt.imshow(wordcloud, interpolation='bilinear')\n",
    "plt.axis('off')\n",
    "plt.title('Top 10 Most Common Job Titles')\n",
    "plt.show()"
   ]
  },
  {
   "cell_type": "markdown",
   "id": "3f0a02a5-2748-4e31-b35b-ba361ef1ed21",
   "metadata": {},
   "source": [
    "##### Insights\n",
    "The top 10 most common job tittles are: English Teacher Abroad(311),  Customer Service Associat( 14),2  Graduates: English Teacher Abro (  1),     Software Engi(  ),      English Teacher Abr  ),       Customer Service Associate - Par(  ),        Account (  ),         Web D(  ), and          Project Manager"
   ]
  },
  {
   "cell_type": "markdown",
   "id": "682e8cf5-3007-4cb5-b9f6-46e11b72b982",
   "metadata": {},
   "source": [
    "### 3. Data Preprocessing"
   ]
  },
  {
   "cell_type": "markdown",
   "id": "592f7497-79c7-4a3e-9322-4c3387798822",
   "metadata": {},
   "source": [
    "#### 3.1. Combining Text-Based Columns for Further Analysis\n",
    "Combine multiple text-based columns into a single column for easier text analysis.Use the apply() function along with a lambda function to concatenate the values of all text columns for each row."
   ]
  },
  {
   "cell_type": "code",
   "execution_count": 13,
   "id": "14b0862e-b685-470b-b206-78877fab3639",
   "metadata": {},
   "outputs": [
    {
     "data": {
      "text/html": [
       "<div>\n",
       "<style scoped>\n",
       "    .dataframe tbody tr th:only-of-type {\n",
       "        vertical-align: middle;\n",
       "    }\n",
       "\n",
       "    .dataframe tbody tr th {\n",
       "        vertical-align: top;\n",
       "    }\n",
       "\n",
       "    .dataframe thead th {\n",
       "        text-align: right;\n",
       "    }\n",
       "</style>\n",
       "<table border=\"1\" class=\"dataframe\">\n",
       "  <thead>\n",
       "    <tr style=\"text-align: right;\">\n",
       "      <th></th>\n",
       "      <th>title</th>\n",
       "      <th>location</th>\n",
       "      <th>department</th>\n",
       "      <th>company_profile</th>\n",
       "      <th>description</th>\n",
       "      <th>requirements</th>\n",
       "      <th>benefits</th>\n",
       "      <th>required_experience</th>\n",
       "      <th>required_education</th>\n",
       "      <th>industry</th>\n",
       "      <th>function</th>\n",
       "      <th>fraudulent</th>\n",
       "      <th>country</th>\n",
       "      <th>combined_text</th>\n",
       "    </tr>\n",
       "  </thead>\n",
       "  <tbody>\n",
       "    <tr>\n",
       "      <th>0</th>\n",
       "      <td>Marketing Intern</td>\n",
       "      <td>US, NY, New York</td>\n",
       "      <td>Marketing</td>\n",
       "      <td>We're Food52, and we've created a groundbreaki...</td>\n",
       "      <td>Food52, a fast-growing, James Beard Award-winn...</td>\n",
       "      <td>Experience with content management systems a m...</td>\n",
       "      <td></td>\n",
       "      <td>Internship</td>\n",
       "      <td></td>\n",
       "      <td></td>\n",
       "      <td>Marketing</td>\n",
       "      <td>0</td>\n",
       "      <td>US</td>\n",
       "      <td>Marketing Intern US US, NY, New York Marketing...</td>\n",
       "    </tr>\n",
       "    <tr>\n",
       "      <th>1</th>\n",
       "      <td>Customer Service - Cloud Video Production</td>\n",
       "      <td>NZ, , Auckland</td>\n",
       "      <td>Success</td>\n",
       "      <td>90 Seconds, the worlds Cloud Video Production ...</td>\n",
       "      <td>Organised - Focused - Vibrant - Awesome!Do you...</td>\n",
       "      <td>What we expect from you:Your key responsibilit...</td>\n",
       "      <td>What you will get from usThrough being part of...</td>\n",
       "      <td>Not Applicable</td>\n",
       "      <td></td>\n",
       "      <td>Marketing and Advertising</td>\n",
       "      <td>Customer Service</td>\n",
       "      <td>0</td>\n",
       "      <td>NZ</td>\n",
       "      <td>Customer Service - Cloud Video Production NZ N...</td>\n",
       "    </tr>\n",
       "  </tbody>\n",
       "</table>\n",
       "</div>"
      ],
      "text/plain": [
       "                                       title          location department  \\\n",
       "0                           Marketing Intern  US, NY, New York  Marketing   \n",
       "1  Customer Service - Cloud Video Production    NZ, , Auckland    Success   \n",
       "\n",
       "                                     company_profile  \\\n",
       "0  We're Food52, and we've created a groundbreaki...   \n",
       "1  90 Seconds, the worlds Cloud Video Production ...   \n",
       "\n",
       "                                         description  \\\n",
       "0  Food52, a fast-growing, James Beard Award-winn...   \n",
       "1  Organised - Focused - Vibrant - Awesome!Do you...   \n",
       "\n",
       "                                        requirements  \\\n",
       "0  Experience with content management systems a m...   \n",
       "1  What we expect from you:Your key responsibilit...   \n",
       "\n",
       "                                            benefits required_experience  \\\n",
       "0                                                             Internship   \n",
       "1  What you will get from usThrough being part of...      Not Applicable   \n",
       "\n",
       "  required_education                   industry          function  fraudulent  \\\n",
       "0                                                       Marketing           0   \n",
       "1                     Marketing and Advertising  Customer Service           0   \n",
       "\n",
       "  country                                      combined_text  \n",
       "0      US  Marketing Intern US US, NY, New York Marketing...  \n",
       "1      NZ  Customer Service - Cloud Video Production NZ N...  "
      ]
     },
     "execution_count": 13,
     "metadata": {},
     "output_type": "execute_result"
    }
   ],
   "source": [
    "# List of text-based categorical columns to clean\n",
    "text_columns = [\n",
    "    'title', 'country', 'location', 'department', 'company_profile', 'description', \n",
    "    'requirements', 'benefits', 'required_experience', 'required_education',\n",
    "    'industry', 'function'\n",
    "]\n",
    "\n",
    "# Combine relevant text columns into one column for further analysis\n",
    "fakejobs_postings_df['combined_text'] = fakejobs_postings_df[text_columns].apply(\n",
    "    lambda row: ' '.join(row.astype(str)), axis=1\n",
    ")\n",
    "\n",
    "# Display the first few rows of the modified dataframe\n",
    "fakejobs_postings_df.head(2)"
   ]
  },
  {
   "cell_type": "markdown",
   "id": "04730a90-1dd7-476a-906f-06c3b0c76444",
   "metadata": {},
   "source": [
    "#### 3.2.Text Preprocessing: Tokenization, Stopword Removal, and Stemming\n",
    "Standardize the text data and prepare it for further natural language processing (NLP):\n",
    "\n",
    "- Initialize the RegexpTokenizer to tokenize the text into words\n",
    "- Remove Stopwords (common words such as \"and,\" \"the,\" \"is,\" etc.)\n",
    "- Apply Stemming to reduce words to their root form using the PorterStemmer. "
   ]
  },
  {
   "cell_type": "code",
   "execution_count": null,
   "id": "4a891c20-7635-4557-a2cd-9a2a1b42565e",
   "metadata": {},
   "outputs": [],
   "source": [
    "# Initialize the RegexpTokenizer (tokenizes on words)\n",
    "tokenizer = RegexpTokenizer(r'\\w+')\n",
    "\n",
    "# Necessary stopwords\n",
    "stop_words = set(stopwords.words('english'))\n",
    "\n",
    "def preprocess_text(text):  \n",
    "        # Remove special characters, punctuation, and numbers\n",
    "        text = re.sub(r'[^a-zA-Z\\s]', '', text)\n",
    "        # Convert to lowercase\n",
    "        text = text.lower()\n",
    "        # Tokenize into words\n",
    "        tokens = tokenizer.tokenize(text)\n",
    "        # Remove stopwords\n",
    "        tokens = [word for word in tokens if word not in stop_words]\n",
    "        # Apply stemming\n",
    "        stemmer = PorterStemmer()\n",
    "        tokens = [stemmer.stem(word) for word in tokens]\n",
    "        return tokens\n",
    "    \n",
    "# List of text-based categorical columns to clean\n",
    "text_columns = [\n",
    "    'title', 'country', 'location', 'department', 'company_profile', 'description', \n",
    "    'requirements', 'benefits', 'required_experience', 'required_education',\n",
    "    'industry', 'function'\n",
    "]\n",
    "\n",
    "# Apply text cleaning to each of the text-based categorical columns\n",
    "for col in text_columns:\n",
    "    fakejobs_postings_df[f'cleaned_{col}'] = fakejobs_postings_df[col].apply(preprocess_text)\n",
    "\n",
    "\n",
    "# Drop the original columns to keep only the cleaned ones\n",
    "#fakejobs_postings_df = fakejobs_postings_df.drop(columns=text_columns)\n",
    "\n",
    "fakejobs_postings_df.head(2)"
   ]
  },
  {
   "cell_type": "markdown",
   "id": "9a1438de-4c99-4d75-b9b3-7bd9690f94c8",
   "metadata": {},
   "source": [
    "#### 3.3. Combining Cleaned Text Columns and Transforming with TF-IDF Vectorizer\n",
    "\n",
    "This step involves combining the cleaned text-based columns into one column and then transforming that text into numerical features using TF-IDF (Term Frequency-Inverse Document Frequency) vectorization."
   ]
  },
  {
   "cell_type": "code",
   "execution_count": null,
   "id": "799e60ba-12f8-43cd-b672-35695af74047",
   "metadata": {},
   "outputs": [],
   "source": [
    "# List of cleaned text-based columns to combine\n",
    "text_features = [\n",
    "    'cleaned_title', 'cleaned_location', 'cleaned_department', \n",
    "    'cleaned_company_profile', 'cleaned_description', \n",
    "    'cleaned_requirements', 'cleaned_benefits', \n",
    "    'cleaned_required_experience', 'cleaned_required_education',\n",
    "    'cleaned_industry', 'cleaned_function'\n",
    "]\n",
    "\n",
    "# Combine relevant text columns into one column for further analysis\n",
    "fakejobs_postings_df['clean_combined_text'] = fakejobs_postings_df[text_features].apply(\n",
    "    lambda row: ' '.join([' '.join(tokens) for tokens in row]), axis=1\n",
    ")\n",
    "\n",
    "# Now transform the combined_text column using TF-IDF Vectorizer\n",
    "tfidf = TfidfVectorizer(max_features=5000)  # Limit the number of features for better performance\n",
    "X_text = tfidf.fit_transform(fakejobs_postings_df['clean_combined_text'])"
   ]
  },
  {
   "cell_type": "markdown",
   "id": "174bd238-ee5f-4fa4-8c87-23042a14d03d",
   "metadata": {},
   "source": [
    "#### 3.4. Word Cloud for Fraudulent Job Postings\n",
    "This code block focuses on visualizing the most common terms in fraudulent job postings using a Word Cloud."
   ]
  },
  {
   "cell_type": "code",
   "execution_count": null,
   "id": "6537caf8-c146-4b35-a5b7-927b82ba6110",
   "metadata": {
    "scrolled": true
   },
   "outputs": [],
   "source": [
    "fake = fakejobs_postings_df[fakejobs_postings_df['fraudulent']==1]['combined_text']\n",
    "\n",
    "# Load the spaCy language model\n",
    "nlp = spacy.load('en_core_web_sm')\n",
    "\n",
    "STOPWORDS = spacy.lang.en.stop_words.STOP_WORDS\n",
    "\n",
    "# Create a more refined word cloud with smaller size and simplified styling\n",
    "wordcloud = WordCloud(width=700, height=400, background_color='white', colormap='Oranges', max_words=120).generate(' '.join(fake))\n",
    "\n",
    "# Display the Word Cloud\n",
    "plt.figure(figsize=(12, 4))\n",
    "plt.imshow(wordcloud, interpolation='bilinear')\n",
    "plt.axis('off')\n",
    "plt.title('The most common terms in Fraudulent Job postings')\n",
    "plt.show()"
   ]
  },
  {
   "cell_type": "markdown",
   "id": "54c8cfe8-3403-40a2-be11-05b3c132b493",
   "metadata": {},
   "source": [
    "#### 3.5. Text Feature Extraction using TF-IDF\n",
    "Convert text data into numerical features using TF-IDF (Term Frequency-Inverse Document Frequency)"
   ]
  },
  {
   "cell_type": "code",
   "execution_count": null,
   "id": "ab8e48d7-baa2-4811-90b1-2e6a674581c2",
   "metadata": {},
   "outputs": [],
   "source": [
    "# Feature Extraction using TF-IDF\n",
    "tfidf = TfidfVectorizer(max_features=5000)  # Limit the number of features to 5000 for better performance\n",
    "\n",
    "# Transform the combined text into numerical features\n",
    "X_text = tfidf.fit_transform(fakejobs_postings_df['combined_text'])\n",
    "\n",
    "# Check the shape of the resulting features\n",
    "print(\"Shape of the text features:\", X_text.shape)"
   ]
  },
  {
   "cell_type": "markdown",
   "id": "7a0ce0de-af89-4f57-b376-290eeab3e962",
   "metadata": {},
   "source": [
    "#### 3.6. Convert Categorical Columns and Combine Features\n",
    "Here, I handle the transformation of categorical data and combine it with text-based features for use in machine learning models.\n",
    "- The OneHotEncoder is used to convert categorical columns like location, company_profile, required_experience, etc., into binary features.\n",
    "- The text-based features (extracted through TF-IDF) are combined with the one-hot encoded categorical features using hstack from scipy.sparse. This creates a combined feature matrix (X_combined) that includes both the text-based and categorical data, ready for model training."
   ]
  },
  {
   "cell_type": "code",
   "execution_count": null,
   "id": "b3a51ceb-4030-4abc-b20d-3abad25e8a80",
   "metadata": {},
   "outputs": [],
   "source": [
    "# Convert categorical columns into numerical values using OneHotEncoder\n",
    "categorical_columns = ['location', 'company_profile', 'required_experience', 'required_education', 'industry', 'function']\n",
    "encoder = OneHotEncoder(sparse_output=False)\n",
    "X_meta = encoder.fit_transform(fakejobs_postings_df[categorical_columns])\n",
    "\n",
    "# Combine text features (TF-IDF) with meta-features\n",
    "from scipy.sparse import hstack\n",
    "X_combined = hstack([X_text, X_meta])\n",
    "\n",
    "# Target variable\n",
    "y = fakejobs_postings_df['fraudulent']"
   ]
  },
  {
   "cell_type": "markdown",
   "id": "e9378a27-f806-495d-8dbf-90be8c4128d5",
   "metadata": {},
   "source": [
    "#### 3.7. Data Splitting: Train-Test Split\n",
    "In this section we focus on splitting data into training and test sets, we can now use the training set to train machine learning models and the test set to evaluate the model's performance on unseen data."
   ]
  },
  {
   "cell_type": "code",
   "execution_count": null,
   "id": "6c1761ce-3911-4ee6-a135-b657fba5037d",
   "metadata": {},
   "outputs": [],
   "source": [
    "# Train-test split (80% for training, 20% for testing)\n",
    "X_train, X_test, y_train, y_test = train_test_split(X_combined, y, test_size=0.2, random_state=42, stratify=y)\n",
    "\n",
    "# Display the shape of the train and test datasets\n",
    "print(f\"Training set shape: {X_train.shape}, Test set shape: {X_test.shape}\")"
   ]
  },
  {
   "cell_type": "markdown",
   "id": "21d2a000-8f1f-48ef-a4b5-49329a51e708",
   "metadata": {},
   "source": [
    "## 4. Modeling \n",
    "### 4.1 Supervised Learning\n",
    "In this section, we will apply Supervised Learning techniques to predict whether a job posting is fraudulent or non-fraudulent based on the features we have prepared so far. Since this is a binary classification problem, where the target variable has two classes (fraudulent or not), we will use different classification models to train and evaluate our model's performance."
   ]
  },
  {
   "cell_type": "markdown",
   "id": "440de706-9fd9-44da-88e4-4ed4cdabe6f2",
   "metadata": {},
   "source": [
    "#### 4.1.1 KNN (K-Nearest Neighbors)\n",
    "The K-Nearest Neighbors (KNN) algorithm is a simple and effective machine learning technique used for classification tasks. "
   ]
  },
  {
   "cell_type": "code",
   "execution_count": null,
   "id": "5a7a044f-1854-4a3d-b4cd-c59ec586e5d9",
   "metadata": {
    "scrolled": true
   },
   "outputs": [],
   "source": [
    "# Initialize the KNN classifier\n",
    "knn = KNeighborsClassifier(n_neighbors=5)\n",
    "\n",
    "# Train the KNN model\n",
    "knn.fit(X_train, y_train)\n",
    "\n",
    "# Make predictions on the test set\n",
    "y_pred_knn = knn.predict(X_test)\n",
    "\n",
    "# Print the classification report for evaluation\n",
    "print(\"KNN Model Classification Report:\")\n",
    "print(classification_report(y_test, y_pred_knn))\n",
    "\n",
    "# Confusion Matrix\n",
    "cm_knn = confusion_matrix(y_test, y_pred_knn)\n",
    "\n",
    "# Plot the confusion matrix\n",
    "plt.figure(figsize=(6, 5))\n",
    "sns.heatmap(cm_knn, annot=True, fmt='d', cmap='Blues', xticklabels=['Real', 'Fake'], yticklabels=['Real', 'Fake'])\n",
    "plt.title(\"Confusion Matrix - KNN\")\n",
    "plt.xlabel(\"Predicted\")\n",
    "plt.ylabel(\"True\")\n",
    "plt.show()"
   ]
  },
  {
   "cell_type": "markdown",
   "id": "75dc3534-09bc-4d02-9588-016ef25208d2",
   "metadata": {},
   "source": [
    "##### Insights\n",
    "The accuracy of the model is 98%, meaning that the model correctly predicted the fraudulent or non-fraudulent label for 98% of the test samples.\n",
    "Class 0 (Non-Fraudulent) Performance:\n",
    "\n",
    "- Precision(0.99) - The model correctly identified 99% of the non-fraudulent job postings. This means that when the model predicted a job posting as non-fraudulent, it was highly likely to be correct.\n",
    "- Recall(1.00)- The model perfectly identified all the non-fraudulent job postings in the dataset. It missed none of them, showing that there are no false negatives for class 0.\n",
    "- F1-Score(0.99) - The high F1-score for class 0 (0.99) indicates that the model has balanced precision and recall for the non-fraudulent class, achieving excellent overall performance.\n",
    "\n",
    "Class 1 (Fraudulent) Performance:\n",
    "\n",
    "- Precision(0.88) - The model correctly predicted fraudulent job postings 88% of the time. \n",
    "- Recall (0.75) - The model identified 75% of all fraudulent job postings, meaning it missed 25% of them (false negatives). \n",
    "- F1-Score(0.81)- The F1-score of 0.81 for the fraudulent class indicates a reasonable balance between precision and recall for this class"
   ]
  },
  {
   "cell_type": "markdown",
   "id": "00c805b3-8386-45b0-bb6b-ff0cf4f09f8e",
   "metadata": {},
   "source": [
    "#### 4.1.2 Random Forest with GridSearchCV\n",
    "Here, we optimize a Random Forest model by performing hyperparameter tuning using GridSearchCV. The goal is to identify the best combination of hyperparameters for the RandomForestClassifier, such as n_estimators, max_depth, and min_samples_split. The grid search will test different combinations and select the optimal configuration."
   ]
  },
  {
   "cell_type": "code",
   "execution_count": null,
   "id": "5119bd38-3aec-4367-a9bb-f7a15224b12f",
   "metadata": {},
   "outputs": [],
   "source": [
    "# Random Forest with GridSearchCV\n",
    "# Define the parameter grid for GridSearchCV\n",
    "param_grid_rf = {\n",
    "    'n_estimators': [50, 100, 200],\n",
    "    'max_depth': [10, 20, None],\n",
    "    'min_samples_split': [2, 5, 10]\n",
    "}\n",
    "\n",
    "# Initialize the RandomForestClassifier\n",
    "rf = RandomForestClassifier(random_state=42)\n",
    "\n",
    "# Perform GridSearchCV to find the best parameters\n",
    "grid_search_rf = GridSearchCV(estimator=rf, param_grid=param_grid_rf, cv=3, n_jobs=-1)\n",
    "grid_search_rf.fit(X_train, y_train)\n",
    "\n",
    "# Print the best parameters found by GridSearchCV\n",
    "print(\"Best parameters for RandomForest:\", grid_search_rf.best_params_)\n",
    "\n",
    "# Predict on the test set using the best model\n",
    "y_pred_rf = grid_search_rf.predict(X_test)\n",
    "\n",
    "# Print the classification report for evaluation\n",
    "print(\"Random Forest Model Classification Report:\")\n",
    "print(classification_report(y_test, y_pred_rf))\n",
    "\n",
    "# Confusion Matrix\n",
    "cm_rf = confusion_matrix(y_test, y_pred_rf)\n",
    "\n",
    "# Plot the confusion matrix\n",
    "plt.figure(figsize=(6, 5))\n",
    "sns.heatmap(cm_rf, annot=True, fmt='d', cmap='Blues', xticklabels=['Real', 'Fake'], yticklabels=['Real', 'Fake'])\n",
    "plt.title(\"Confusion Matrix - Random Forest\")\n",
    "plt.xlabel(\"Predicted\")\n",
    "plt.ylabel(\"True\")\n",
    "plt.show()"
   ]
  },
  {
   "cell_type": "markdown",
   "id": "70a30788-8563-41b2-9da6-bdb85bf0cf01",
   "metadata": {
    "scrolled": true
   },
   "source": [
    "#### 4.1.3 XGBoost Model\n",
    "Here, we apply the XGBoost model to the job posting dataset. XGBoost (Extreme Gradient Boosting) is an advanced machine learning algorithm that is highly effective for classification tasks, especially with large and imbalanced datasets."
   ]
  },
  {
   "cell_type": "code",
   "execution_count": null,
   "id": "13ce36aa-1b84-48b2-8c24-433a997b9b60",
   "metadata": {},
   "outputs": [],
   "source": [
    "# Initialize the XGBoost classifier\n",
    "xgb = XGBClassifier(random_state=42, eval_metric='logloss')\n",
    "\n",
    "# Train the XGBoost model\n",
    "xgb.fit(X_train, y_train)\n",
    "\n",
    "# Make predictions on the test set\n",
    "y_pred_xgb = xgb.predict(X_test)\n",
    "\n",
    "# Print the classification report for evaluation\n",
    "print(\"XGBoost Model Classification Report:\")\n",
    "print(classification_report(y_test, y_pred_xgb))\n",
    "\n",
    "# Confusion Matrix\n",
    "cm_xgb = confusion_matrix(y_test, y_pred_xgb)\n",
    "\n",
    "# Plot the confusion matrix\n",
    "plt.figure(figsize=(6, 5))\n",
    "sns.heatmap(cm_xgb, annot=True, fmt='d', cmap='Blues', xticklabels=['Real', 'Fake'], yticklabels=['Real', 'Fake'])\n",
    "plt.title(\"Confusion Matrix - XGBoost\")\n",
    "plt.xlabel(\"Predicted\")\n",
    "plt.ylabel(\"True\")\n",
    "plt.show()"
   ]
  },
  {
   "cell_type": "markdown",
   "id": "c61d7ce7-c914-458f-9ebc-bed2d88be074",
   "metadata": {},
   "source": [
    "#### 4.1.4 Gradient Boosting Model\n",
    "Gradient Boosting is a powerful ensemble technique that builds models in a stage-wise manner, combining weak learners (usually decision trees) to create a stronger overall model. "
   ]
  },
  {
   "cell_type": "code",
   "execution_count": null,
   "id": "21b221ba-5794-487c-9133-cdb772862052",
   "metadata": {},
   "outputs": [],
   "source": [
    "# Initialize the Gradient Boosting classifier\n",
    "gb = GradientBoostingClassifier(n_estimators=100, random_state=42)\n",
    "\n",
    "# Train the Gradient Boosting model\n",
    "gb.fit(X_train, y_train)\n",
    "\n",
    "# Make predictions on the test set\n",
    "y_pred_gb = gb.predict(X_test)\n",
    "\n",
    "# Print the classification report for evaluation\n",
    "print(\"Gradient Boosting Model Classification Report:\")\n",
    "print(classification_report(y_test, y_pred_gb))\n",
    "\n",
    "# Confusion Matrix\n",
    "cm_gb = confusion_matrix(y_test, y_pred_gb)\n",
    "\n",
    "# Plot the confusion matrix\n",
    "plt.figure(figsize=(6, 5))\n",
    "sns.heatmap(cm_gb, annot=True, fmt='d', cmap='Blues', xticklabels=['Real', 'Fake'], yticklabels=['Real', 'Fake'])\n",
    "plt.title(\"Confusion Matrix - Gradient Boosting\")\n",
    "plt.xlabel(\"Predicted\")\n",
    "plt.ylabel(\"True\")\n",
    "plt.show()"
   ]
  },
  {
   "cell_type": "markdown",
   "id": "568c7b63-8cee-4da4-8c92-70d386528852",
   "metadata": {},
   "source": [
    "#### 4.1.5 Naive Bayes Model (MultinomialNB)\n",
    "Here, I apply the Multinomial Naive Bayes classifier to the job posting dataset. Naive Bayes is a probabilistic classification algorithm based on Bayes' theorem and is particularly effective when dealing with text data, as it assumes features (words or tokens) are conditionally independent given the class. "
   ]
  },
  {
   "cell_type": "code",
   "execution_count": null,
   "id": "47ad88ef-c5d6-4c98-8b62-e2ad5b2d1cd3",
   "metadata": {},
   "outputs": [],
   "source": [
    "from sklearn.naive_bayes import MultinomialNB\n",
    "\n",
    "# Initialize the Naive Bayes classifier\n",
    "nb_model = MultinomialNB()\n",
    "\n",
    "# Train the Naive Bayes model\n",
    "nb_model.fit(X_train, y_train)\n",
    "\n",
    "# Make predictions on the test set\n",
    "y_pred_nb = nb_model.predict(X_test)\n",
    "\n",
    "# Evaluate the model's performance\n",
    "accuracy_nb = accuracy_score(y_test, y_pred_nb)\n",
    "precision_nb, recall_nb, f1_nb, _ = classification_report(y_test, y_pred_nb, output_dict=True)['1'].values()\n",
    "auc_roc_nb = roc_auc_score(y_test, nb_model.predict_proba(X_test)[:, 1])\n",
    "\n",
    "# Display the results\n",
    "print(f\"Naive Bayes Model:\")\n",
    "print(f\"Accuracy: {accuracy_nb:.4f}\")\n",
    "print(f\"Precision: {precision_nb:.4f}\")\n",
    "print(f\"Recall: {recall_nb:.4f}\")\n",
    "print(f\"F1-Score: {f1_nb:.4f}\")\n",
    "print(f\"AUC-ROC: {auc_roc_nb:.4f}\")\n",
    "print(\"\\n\" + \"-\"*50)\n",
    "\n",
    "# Plot the confusion matrix\n",
    "cm_nb = confusion_matrix(y_test, y_pred_nb)\n",
    "plt.figure(figsize=(6, 5))\n",
    "sns.heatmap(cm_nb, annot=True, fmt='d', cmap='Blues', xticklabels=['Real', 'Fake'], yticklabels=['Real', 'Fake'])\n",
    "plt.title(\"Confusion Matrix - Naive Bayes\")\n",
    "plt.xlabel(\"Predicted\")\n",
    "plt.ylabel(\"True\")\n",
    "plt.show()"
   ]
  },
  {
   "cell_type": "markdown",
   "id": "c943d380-4486-49ea-9bf6-a364c3835785",
   "metadata": {},
   "source": [
    "### 4.2. Unsupervised Learning\n",
    "Unsupervised learning is a type of machine learning where the model is not provided with labeled data. Instead, it attempts to find patterns or structure in the data. "
   ]
  },
  {
   "cell_type": "markdown",
   "id": "9eb14516-f431-41a1-a477-266b8168bbe2",
   "metadata": {},
   "source": [
    "#### 4.2.1 Clustering (KMeans)\n",
    "Here, we apply KMeans clustering, to partition the data into k clusters based on feature similarities. In this case, we are assuming that job postings can be grouped into two clusters: real and fake job postings.\n",
    "We visualize the Silhouette Score to get an idea of how well the KMeans algorithm has clustered the job postings."
   ]
  },
  {
   "cell_type": "code",
   "execution_count": null,
   "id": "e18f1c94-78d6-470d-bc43-0bfe55d745ff",
   "metadata": {},
   "outputs": [],
   "source": [
    "from sklearn.metrics import silhouette_samples, silhouette_score\n",
    "import matplotlib.pyplot as plt\n",
    "import numpy as np\n",
    "from sklearn.cluster import KMeans\n",
    "\n",
    "# KMeans Clustering\n",
    "kmeans = KMeans(n_clusters=2, random_state=42)\n",
    "kmeans.fit(X_train)\n",
    "\n",
    "# Evaluate the clustering performance\n",
    "silhouette_avg = silhouette_score(X_train, kmeans.labels_)\n",
    "print(f\"Silhouette Score for KMeans clustering: {silhouette_avg:.4f}\")\n",
    "\n",
    "# Compute the silhouette scores for each sample\n",
    "silhouette_values = silhouette_samples(X_train, kmeans.labels_)\n",
    "\n",
    "# Sort the silhouette scores in descending order\n",
    "sorted_silhouette_values = np.sort(silhouette_values)\n",
    "\n",
    "# Create a figure for the silhouette plot\n",
    "plt.figure(figsize=(8, 6))\n",
    "\n",
    "# Create a bar plot for the sorted silhouette scores\n",
    "plt.barh(range(len(sorted_silhouette_values)), sorted_silhouette_values, color='skyblue')\n",
    "plt.axvline(x=silhouette_avg, color='red', linestyle='--')  # Add a vertical line for the average silhouette score\n",
    "plt.xlabel(\"Silhouette Score\")\n",
    "plt.ylabel(\"Sample Index\")\n",
    "plt.title(\"Silhouette Scores for Each Sample in KMeans Clustering\")\n",
    "\n",
    "# Show the plot\n",
    "plt.show()"
   ]
  },
  {
   "cell_type": "markdown",
   "id": "4f44bb7c-0847-41aa-add0-d9bd5fd1412a",
   "metadata": {},
   "source": [
    "#### 4.2.2. PCA (Principal Component Analysis) for Dimensionality Reduction:\n",
    "PCA helps to reduce the number of features in the dataset while retaining as much variability as possible. Here we reduce the features to 2 principal components (n_components=2), allowing for a 2D visualization of the data."
   ]
  },
  {
   "cell_type": "code",
   "execution_count": null,
   "id": "d5aa9daa-09bc-43c2-9476-2981c63c240d",
   "metadata": {},
   "outputs": [],
   "source": [
    "from sklearn.decomposition import PCA\n",
    "\n",
    "# Apply PCA to reduce to 2 components\n",
    "pca = PCA(n_components=2)\n",
    "X_pca = pca.fit_transform(X_train.toarray())  # Convert sparse matrix to dense\n",
    "\n",
    "# Visualize the 2D projection of data\n",
    "plt.figure(figsize=(8, 6))\n",
    "plt.scatter(X_pca[:, 0], X_pca[:, 1], c=y_train, cmap='coolwarm')\n",
    "plt.title('PCA - 2D Projection of Job Postings')\n",
    "plt.xlabel('Principal Component 1')\n",
    "plt.ylabel('Principal Component 2')\n",
    "plt.show()"
   ]
  },
  {
   "cell_type": "markdown",
   "id": "e34d19a0-9767-49f8-b233-d92f0d2e49de",
   "metadata": {},
   "source": [
    "### 5. Model Comparisons\n",
    "In this section, we will compare the performance of the supervised and unsupervised models we have implemented. The purpose of this comparison is to assess how well each type of model performs on the task of identifying fraudulent job postings, and to understand the differences between supervised learning models and unsupervised learning models in terms of their ability to handle this classification problem."
   ]
  },
  {
   "cell_type": "code",
   "execution_count": null,
   "id": "c93af76e-f3e6-42d0-b3bc-502c0f7d961b",
   "metadata": {},
   "outputs": [],
   "source": []
  },
  {
   "cell_type": "markdown",
   "id": "c78b6758-1159-4ebf-807b-acc528ef05d5",
   "metadata": {},
   "source": [
    "### 6. Model Training using Neural Network and SGD:\n",
    "We implement a multi-layer perceptron (MLP) neural network. The training will be based on Stochastic Gradient Descent (SGD)."
   ]
  },
  {
   "cell_type": "code",
   "execution_count": null,
   "id": "50815e16-e31c-4657-837b-031f0c09a8e3",
   "metadata": {},
   "outputs": [],
   "source": [
    "from sklearn.neural_network import MLPClassifier\n",
    "from sklearn.metrics import accuracy_score, classification_report, roc_auc_score, confusion_matrix\n",
    "\n",
    "from sklearn.neural_network import MLPClassifier\n",
    "from sklearn.metrics import accuracy_score, classification_report, roc_auc_score, confusion_matrix\n",
    "\n",
    "# Define the neural network model using MLPClassifier with SGD optimizer\n",
    "mlp_sgd = MLPClassifier(solver='sgd', hidden_layer_sizes=(100,), max_iter=300, random_state=42, learning_rate_init=0.01)\n",
    "\n",
    "# Train the model\n",
    "mlp_sgd.fit(X_train, y_train)\n",
    "\n",
    "# Make predictions on the test set\n",
    "y_pred_mlp = mlp_sgd.predict(X_test)\n",
    "\n",
    "# Calculate performance metrics\n",
    "accuracy_mlp = accuracy_score(y_test, y_pred_mlp)\n",
    "precision_mlp, recall_mlp, f1_mlp, _ = classification_report(y_test, y_pred_mlp, output_dict=True)['1'].values()\n",
    "auc_roc_mlp = roc_auc_score(y_test, mlp_sgd.predict_proba(X_test)[:, 1])\n",
    "\n",
    "# Display the results\n",
    "print(f\"MLP (SGD) Model:\")\n",
    "print(f\"Accuracy: {accuracy_mlp:.4f}\")\n",
    "print(f\"Precision: {precision_mlp:.4f}\")\n",
    "print(f\"Recall: {recall_mlp:.4f}\")\n",
    "print(f\"F1-Score: {f1_mlp:.4f}\")\n",
    "print(f\"AUC-ROC: {auc_roc_mlp:.4f}\")\n",
    "print(\"\\n\" + \"-\"*50)\n"
   ]
  },
  {
   "cell_type": "markdown",
   "id": "b9325d90-dffd-47b4-aac9-ef67069c1031",
   "metadata": {},
   "source": [
    "### 6. Model Interpretability (SHAP or LIME)"
   ]
  },
  {
   "cell_type": "code",
   "execution_count": null,
   "id": "8f20bfc0-9542-48a7-9924-b1630d5ce513",
   "metadata": {},
   "outputs": [],
   "source": [
    "import shap\n",
    "\n",
    "# Using SHAP for Random Forest\n",
    "explainer = shap.TreeExplainer(grid_search_rf.best_estimator_)  # Random Forest Model\n",
    "shap_values = explainer.shap_values(X_test.toarray())\n",
    "\n",
    "# Visualize SHAP values\n",
    "shap.summary_plot(shap_values[1], X_test.toarray())"
   ]
  },
  {
   "cell_type": "markdown",
   "id": "b7a54ce6-e9e5-4151-a209-91d453ff717a",
   "metadata": {},
   "source": [
    "### 7. Model Evaluation and Tuning\n",
    "ensure the selected model (e.g., XGBoost or Random Forest) is tuned and performs well with optimal hyperparameters."
   ]
  },
  {
   "cell_type": "code",
   "execution_count": null,
   "id": "0099782b-0b72-40fd-8dc8-18f84a48b004",
   "metadata": {},
   "outputs": [],
   "source": [
    "# Hyperparameter Tuning for XGBoost or Random Forest if needed\n",
    "# For example, with Random Forest\n",
    "grid_search_rf_best = GridSearchCV(estimator=RandomForestClassifier(random_state=42), param_grid=param_grid_rf, cv=5, n_jobs=-1)\n",
    "grid_search_rf_best.fit(X_train, y_train)\n",
    "\n",
    "# Final model evaluation\n",
    "best_model = grid_search_rf_best.best_estimator_\n",
    "y_pred_best = best_model.predict(X_test)\n",
    "print(f\"Best Random Forest Model Classification Report:\\n{classification_report(y_test, y_pred_best)}\")"
   ]
  }
 ],
 "metadata": {
  "kernelspec": {
   "display_name": "Python 3 (ipykernel)",
   "language": "python",
   "name": "python3"
  },
  "language_info": {
   "codemirror_mode": {
    "name": "ipython",
    "version": 3
   },
   "file_extension": ".py",
   "mimetype": "text/x-python",
   "name": "python",
   "nbconvert_exporter": "python",
   "pygments_lexer": "ipython3",
   "version": "3.12.4"
  }
 },
 "nbformat": 4,
 "nbformat_minor": 5
}
